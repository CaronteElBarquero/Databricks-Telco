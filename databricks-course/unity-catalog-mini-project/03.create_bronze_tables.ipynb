{
 "cells": [
  {
   "cell_type": "markdown",
   "metadata": {
    "application/vnd.databricks.v1+cell": {
     "cellMetadata": {},
     "inputWidgets": {},
     "nuid": "00209603-a9fc-443c-bef4-082283d1e212",
     "showTitle": false,
     "tableResultSettingsMap": {},
     "title": ""
    }
   },
   "source": [
    "### Crear Tablas en el Schema Bronze\n",
    "\n",
    "1. clientes.csv desde \"abfss://bronze@sadatabricksext.dfs.core.windows.net/clientes.csv\"\n",
    "2. details.csv desde \"abfss://bronze@sadatabricksext.dfs.core.windows.net/details.csv\"\n"
   ]
  },
  {
   "cell_type": "code",
   "execution_count": 0,
   "metadata": {
    "application/vnd.databricks.v1+cell": {
     "cellMetadata": {
      "byteLimit": 2048000,
      "rowLimit": 10000
     },
     "inputWidgets": {},
     "nuid": "654ee6a1-b55f-4f08-88d6-f1c5d8e5808e",
     "showTitle": false,
     "tableResultSettingsMap": {},
     "title": ""
    }
   },
   "outputs": [],
   "source": [
    "DROP TABLE IF EXISTS telco_dev.bronze.clientes;\n",
    "\n",
    "create table if not exists telco_dev.bronze.clientes(\n",
    "  clientId int,\n",
    "  nombre string,\n",
    "  paterno string,\n",
    "  materno string,\n",
    "  documentoIdentidad string,\n",
    "  telefono string,\n",
    "  email string,\n",
    "  direccion string\n",
    ")\n",
    "using csv\n",
    "options (\n",
    "  path \"abfss://bronze@storagedatabricksext.dfs.core.windows.net/clientes.csv\",\n",
    "  delimiter \";\",\n",
    "  header \"true\"\n",
    ")"
   ]
  },
  {
   "cell_type": "code",
   "execution_count": 0,
   "metadata": {
    "application/vnd.databricks.v1+cell": {
     "cellMetadata": {
      "byteLimit": 2048000,
      "rowLimit": 10000
     },
     "inputWidgets": {},
     "nuid": "3029a4be-962e-486e-9c3b-e6fca486236d",
     "showTitle": false,
     "tableResultSettingsMap": {},
     "title": ""
    }
   },
   "outputs": [],
   "source": [
    "DROP TABLE IF EXISTS telco_dev.bronze.detalles;\n",
    "\n",
    "create table if not exists telco_dev.bronze.detalles(\n",
    "  detalleId int,\n",
    "  clientId int,\n",
    "  servicio STRING,\n",
    "  plan string,\n",
    "  precioMensual DECIMAL(5,2),\n",
    "  estado BOOLEAN,\n",
    "  fechaInicio Date,\n",
    "  fechaFin Date\n",
    ")\n",
    "using csv\n",
    "options (\n",
    "  path \"abfss://bronze@storagedatabricksext.dfs.core.windows.net/detalles.csv\",\n",
    "  delimiter \";\",\n",
    "  header \"true\"\n",
    ")"
   ]
  },
  {
   "cell_type": "code",
   "execution_count": 0,
   "metadata": {
    "application/vnd.databricks.v1+cell": {
     "cellMetadata": {},
     "inputWidgets": {},
     "nuid": "03538ba8-10c2-4350-9883-7d0fa04bc236",
     "showTitle": false,
     "tableResultSettingsMap": {},
     "title": ""
    }
   },
   "outputs": [],
   "source": []
  }
 ],
 "metadata": {
  "application/vnd.databricks.v1+notebook": {
   "computePreferences": null,
   "dashboards": [],
   "environmentMetadata": {
    "base_environment": "",
    "environment_version": "2"
   },
   "inputWidgetPreferences": null,
   "language": "sql",
   "notebookMetadata": {
    "pythonIndentUnit": 4
   },
   "notebookName": "03.create_bronze_tables",
   "widgets": {}
  },
  "language_info": {
   "name": "sql"
  }
 },
 "nbformat": 4,
 "nbformat_minor": 0
}
