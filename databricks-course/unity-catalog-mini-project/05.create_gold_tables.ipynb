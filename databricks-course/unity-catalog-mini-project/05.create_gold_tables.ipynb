{
 "cells": [
  {
   "cell_type": "markdown",
   "metadata": {
    "application/vnd.databricks.v1+cell": {
     "cellMetadata": {},
     "inputWidgets": {},
     "nuid": "1764198d-77da-48fc-b6c5-3e1ca6e19ba8",
     "showTitle": false,
     "tableResultSettingsMap": {},
     "title": ""
    }
   },
   "source": [
    "### Crear Managed Table en el Schema gold\n",
    "- usar JOIN en las tablas \"clientes\" y \"detalles\" para obtener los \"ingresos por clientes\""
   ]
  },
  {
   "cell_type": "code",
   "execution_count": 0,
   "metadata": {
    "application/vnd.databricks.v1+cell": {
     "cellMetadata": {
      "byteLimit": 2048000,
      "rowLimit": 10000
     },
     "inputWidgets": {},
     "nuid": "bf59ef9c-ad03-4134-b06a-bedd5513aeab",
     "showTitle": false,
     "tableResultSettingsMap": {},
     "title": ""
    }
   },
   "outputs": [],
   "source": [
    "drop table if exists telco_dev.gold.ingreso_por_cliente;\n",
    "\n",
    "create table telco_dev.gold.ingreso_por_cliente\n",
    "as\n",
    "select C.nombre_completo, sum(D.precio_mensual) as ingreso\n",
    "from telco_dev.silver.clientes C\n",
    "inner join telco_dev.silver.detalles D\n",
    "on C.cliente_id = D.cliente_id\n",
    "where D.estado = true\n",
    "group by C.nombre_completo\n",
    "order by ingreso desc;"
   ]
  }
 ],
 "metadata": {
  "application/vnd.databricks.v1+notebook": {
   "computePreferences": null,
   "dashboards": [],
   "environmentMetadata": {
    "base_environment": "",
    "environment_version": "2"
   },
   "inputWidgetPreferences": null,
   "language": "sql",
   "notebookMetadata": {},
   "notebookName": "05.create_gold_tables",
   "widgets": {}
  },
  "language_info": {
   "name": "sql"
  }
 },
 "nbformat": 4,
 "nbformat_minor": 0
}
