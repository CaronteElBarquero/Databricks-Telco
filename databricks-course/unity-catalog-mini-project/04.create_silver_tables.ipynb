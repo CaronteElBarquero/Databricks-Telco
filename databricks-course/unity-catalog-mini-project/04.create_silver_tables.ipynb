{
 "cells": [
  {
   "cell_type": "markdown",
   "metadata": {
    "application/vnd.databricks.v1+cell": {
     "cellMetadata": {},
     "inputWidgets": {},
     "nuid": "424aeec7-d3e2-45df-a9c9-6f777e46f53a",
     "showTitle": false,
     "tableResultSettingsMap": {},
     "title": ""
    }
   },
   "source": [
    "### Crear Managed Table en el Schema Silver\n",
    "\n",
    "1. clientes\n",
    "2. detalles"
   ]
  },
  {
   "cell_type": "code",
   "execution_count": 0,
   "metadata": {
    "application/vnd.databricks.v1+cell": {
     "cellMetadata": {
      "byteLimit": 2048000,
      "rowLimit": 10000
     },
     "inputWidgets": {},
     "nuid": "fe2ad16e-199a-4cbd-9228-988c6c9cc97a",
     "showTitle": false,
     "tableResultSettingsMap": {},
     "title": ""
    }
   },
   "outputs": [],
   "source": [
    "\n",
    "drop table if exists telco_dev.silver.clientes;\n",
    "create table if not exists telco_dev.silver.clientes\n",
    "as\n",
    "select \n",
    "clientId as cliente_id,\n",
    "concat(nombre, ' ', paterno, ' ', materno) as nombre_completo,\n",
    "documentoIdentidad as documento_identidad,\n",
    "telefono,\n",
    "email,\n",
    "direccion,\n",
    "current_timestamp() as ingestion_date\n",
    "from telco_dev.bronze.clientes;"
   ]
  },
  {
   "cell_type": "code",
   "execution_count": 0,
   "metadata": {
    "application/vnd.databricks.v1+cell": {
     "cellMetadata": {
      "byteLimit": 2048000,
      "rowLimit": 10000
     },
     "inputWidgets": {},
     "nuid": "1733fdc3-3844-4e6d-8011-b752ac79a40d",
     "showTitle": false,
     "tableResultSettingsMap": {},
     "title": ""
    }
   },
   "outputs": [],
   "source": [
    "select * from telco_dev.silver.clientes;"
   ]
  },
  {
   "cell_type": "code",
   "execution_count": 0,
   "metadata": {
    "application/vnd.databricks.v1+cell": {
     "cellMetadata": {
      "byteLimit": 2048000,
      "rowLimit": 10000
     },
     "inputWidgets": {},
     "nuid": "864c7692-982a-4c74-afe2-e3d4de2b4785",
     "showTitle": false,
     "tableResultSettingsMap": {},
     "title": ""
    }
   },
   "outputs": [],
   "source": [
    "\n",
    "drop table if exists telco_dev.silver.detalles;\n",
    "create table if not exists telco_dev.silver.detalles\n",
    "as\n",
    "select\n",
    "detalleId as detalle_id,\n",
    "clientId as cliente_id,\n",
    "servicio,\n",
    "plan,\n",
    "precioMensual as precio_mensual,\n",
    "estado,\n",
    "fechaInicio as fecha_inicio,\n",
    "fechaFin as fecha_fin,\n",
    "current_timestamp() as ingestion_date\n",
    "from telco_dev.bronze.detalles;"
   ]
  },
  {
   "cell_type": "code",
   "execution_count": 0,
   "metadata": {
    "application/vnd.databricks.v1+cell": {
     "cellMetadata": {},
     "inputWidgets": {},
     "nuid": "5ef3862d-0256-4187-8700-63c8929fd084",
     "showTitle": false,
     "tableResultSettingsMap": {},
     "title": ""
    }
   },
   "outputs": [],
   "source": []
  }
 ],
 "metadata": {
  "application/vnd.databricks.v1+notebook": {
   "computePreferences": null,
   "dashboards": [],
   "environmentMetadata": {
    "base_environment": "",
    "environment_version": "2"
   },
   "inputWidgetPreferences": null,
   "language": "sql",
   "notebookMetadata": {},
   "notebookName": "04.create_silver_tables",
   "widgets": {}
  },
  "language_info": {
   "name": "sql"
  }
 },
 "nbformat": 4,
 "nbformat_minor": 0
}
